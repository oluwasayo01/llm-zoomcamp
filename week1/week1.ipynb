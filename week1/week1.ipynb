{
 "cells": [
  {
   "cell_type": "code",
   "execution_count": 8,
   "metadata": {},
   "outputs": [],
   "source": [
    "from openai import OpenAI\n",
    "import os\n",
    "\n"
   ]
  },
  {
   "cell_type": "code",
   "execution_count": 9,
   "metadata": {},
   "outputs": [],
   "source": [
    "client = OpenAI(\n",
    "    api_key=os.environ.get('OPENAI_API_KEY')\n",
    ")"
   ]
  },
  {
   "cell_type": "code",
   "execution_count": 10,
   "metadata": {},
   "outputs": [],
   "source": [
    "response = client.chat.completions.create(\n",
    "    model='gpt-4o',\n",
    "    messages=[{'role': 'user', 'content': 'is it too late to join the course'}]\n",
    ")"
   ]
  },
  {
   "cell_type": "code",
   "execution_count": 15,
   "metadata": {},
   "outputs": [
    {
     "name": "stdout",
     "output_type": "stream",
     "text": [
      "It depends on the specifics of the course you're considering. Here are a few factors to consider:\n",
      "\n",
      "1. **Enrollment Deadlines:** Check if the course has specific enrollment deadlines. Some courses may allow late registrations with permission from the instructor or an administrative office.\n",
      "\n",
      "2. **Course Progress:** Consider how far along the course is. If it's early in the semester or term, catching up might be feasible. However, if the course is nearing completion, joining might not be practical.\n",
      "\n",
      "3. **Course Type:** Online courses might have more flexible start times than traditional in-person courses. Some online platforms offer self-paced courses that you can start at any time.\n",
      "\n",
      "4. **Instructor Policies:** Contact the instructor or course coordinator to see if they allow late enrollments. They can provide insights into any catch-up work that may be required.\n",
      "\n",
      "5. **Personal Commitment:** Assess your own ability to catch up on missed material. This includes evaluating your current workload and personal commitments.\n",
      "\n",
      "If it's too late for the current session, you might want to wait for the next offering or see if there are other similar courses available.\n"
     ]
    }
   ],
   "source": [
    "print(response.choices[0].message.content)"
   ]
  }
 ],
 "metadata": {
  "kernelspec": {
   "display_name": "venv",
   "language": "python",
   "name": "python3"
  },
  "language_info": {
   "codemirror_mode": {
    "name": "ipython",
    "version": 3
   },
   "file_extension": ".py",
   "mimetype": "text/x-python",
   "name": "python",
   "nbconvert_exporter": "python",
   "pygments_lexer": "ipython3",
   "version": "3.9.12"
  }
 },
 "nbformat": 4,
 "nbformat_minor": 2
}
